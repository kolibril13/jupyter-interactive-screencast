{
 "cells": [
  {
   "cell_type": "code",
   "execution_count": null,
   "id": "5c10b126-fcdd-428f-a989-e1ba2aba9795",
   "metadata": {
    "tags": []
   },
   "outputs": [],
   "source": [
    "%load_ext ipyreact"
   ]
  },
  {
   "cell_type": "code",
   "execution_count": null,
   "id": "c62ec85b-20c5-4de6-8415-3cf615d81d8d",
   "metadata": {
    "tags": []
   },
   "outputs": [],
   "source": [
    "%%react\n",
    "\n",
    "import * as React from \"react\";\n",
    "\n",
    "export default function MyButton() {\n",
    "    return ( < button > X < /button>);\n",
    "}"
   ]
  },
  {
   "cell_type": "code",
   "execution_count": null,
   "id": "8712f348-0cef-4d39-b2b9-6c87737b512f",
   "metadata": {
    "tags": []
   },
   "outputs": [],
   "source": [
    "%%react\n",
    "import React, { useState, useEffect } from 'react';\n",
    "import FileSaver from 'file-saver';\n",
    "\n",
    "function InputLogger() {\n",
    "  const [inputs, setInputs] = useState([]);\n",
    "\n",
    "  useEffect(() => {\n",
    "    const handleKeyDown = (event) => {\n",
    "      setInputs((prevInputs) => [\n",
    "        ...prevInputs,\n",
    "        { type: 'keyboard', key: event.key, time: new Date().getTime() },\n",
    "      ]);\n",
    "    };\n",
    "\n",
    "    const handleMouseMove = (event) => {\n",
    "      setInputs((prevInputs) => [\n",
    "        ...prevInputs,\n",
    "        {\n",
    "          type: 'mouse',\n",
    "          x: event.clientX,\n",
    "          y: event.clientY,\n",
    "          time: new Date().getTime(),\n",
    "        },\n",
    "      ]);\n",
    "    };\n",
    "\n",
    "    window.addEventListener('keydown', handleKeyDown);\n",
    "    window.addEventListener('mousemove', handleMouseMove);\n",
    "\n",
    "    return () => {\n",
    "      window.removeEventListener('keydown', handleKeyDown);\n",
    "      window.removeEventListener('mousemove', handleMouseMove);\n",
    "    };\n",
    "  }, []);\n",
    "\n",
    "  const downloadJson = () => {\n",
    "    const json = JSON.stringify(inputs);\n",
    "    const blob = new Blob([json], { type: 'application/json' });\n",
    "    FileSaver.saveAs(blob, 'input-log.json');\n",
    "  };\n",
    "\n",
    "  return (\n",
    "    <div style={{ fontFamily: 'monospace' }}>\n",
    "      <p>Move the mouse or press any key to log the input events</p>\n",
    "      <button onClick={downloadJson}>Download Input Log</button>\n",
    "    </div>\n",
    "  );\n",
    "}\n",
    "\n",
    "export default InputLogger;\n"
   ]
  },
  {
   "cell_type": "code",
   "execution_count": null,
   "id": "b9b041dd-583c-46e1-9b66-87d92628941b",
   "metadata": {},
   "outputs": [],
   "source": []
  }
 ],
 "metadata": {
  "kernelspec": {
   "display_name": "Python 3 (ipykernel)",
   "language": "python",
   "name": "python3"
  },
  "language_info": {
   "codemirror_mode": {
    "name": "ipython",
    "version": 3
   },
   "file_extension": ".py",
   "mimetype": "text/x-python",
   "name": "python",
   "nbconvert_exporter": "python",
   "pygments_lexer": "ipython3",
   "version": "3.11.5"
  }
 },
 "nbformat": 4,
 "nbformat_minor": 5
}
